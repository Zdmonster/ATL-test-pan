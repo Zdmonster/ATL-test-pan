{
 "cells": [
  {
   "cell_type": "code",
   "execution_count": 7,
   "id": "ec85230e",
   "metadata": {},
   "outputs": [],
   "source": [
    "class Article:\n",
    "    def __init__(self, nom, montant):\n",
    "        self.nom = nom\n",
    "        self.montant = montant\n",
    "        \n",
    "    def afficher_article(self):\n",
    "        print(f\"Nom: {self.nom}, Montant: {self.montant}\")\n",
    "    \n",
    "    def ajouter_remise(self, remise_en_prc):\n",
    "        remise = self.montant*remise_en_prc\n",
    "        self.montant = self.montant - remise\n",
    "        \n",
    "    "
   ]
  },
  {
   "cell_type": "code",
   "execution_count": 6,
   "id": "fe6e1125",
   "metadata": {},
   "outputs": [],
   "source": [
    "class Panier:\n",
    "    def __init__(self, nb_articles = 0, mt_articles = 0, articles = []):\n",
    "        self.nb_articles = nb.articles\n",
    "        self.mt_articles = mt_articles\n",
    "        self.articles = articles\n",
    "    \n",
    "    # Ajout d'article\n",
    "    def ajouter_article(self, article):\n",
    "        if isinstance(article, Article):\n",
    "            self.nb_articles+=1\n",
    "            self.articles.append(article)\n",
    "            self.mt_articles += article.montant\n",
    "        else:\n",
    "            print(\"Ce n'est pas un article\")\n",
    "            \n",
    "    # Retirer article \n",
    "    def retirer_article(self, article):\n",
    "        if article in self.articles:\n",
    "            self.nb_articles-=1\n",
    "            self.articles.remove(article)\n",
    "            self.mt_articles -= article.montant\n",
    "        else:\n",
    "            print(\"L'article n'est pas dans le panier\")\n",
    "            \n",
    "    # Vider panier\n",
    "    def vider_panier(self):\n",
    "        self.nb_articles = 0\n",
    "        self.articles = []\n",
    "        self.mt_articles = 0\n",
    "        \n",
    "        "
   ]
  },
  {
   "cell_type": "code",
   "execution_count": 8,
   "id": "1c3c70fa",
   "metadata": {},
   "outputs": [
    {
     "name": "stderr",
     "output_type": "stream",
     "text": [
      "E\n",
      "======================================================================\n",
      "ERROR: C:\\Users\\zohar\\AppData\\Roaming\\jupyter\\runtime\\kernel-eb542cfe-e790-4735-85c8-d740cf47953d (unittest.loader._FailedTest)\n",
      "----------------------------------------------------------------------\n",
      "AttributeError: module '__main__' has no attribute 'C:\\Users\\zohar\\AppData\\Roaming\\jupyter\\runtime\\kernel-eb542cfe-e790-4735-85c8-d740cf47953d'\n",
      "\n",
      "----------------------------------------------------------------------\n",
      "Ran 1 test in 0.002s\n",
      "\n",
      "FAILED (errors=1)\n"
     ]
    },
    {
     "ename": "SystemExit",
     "evalue": "True",
     "output_type": "error",
     "traceback": [
      "An exception has occurred, use %tb to see the full traceback.\n",
      "\u001b[1;31mSystemExit\u001b[0m\u001b[1;31m:\u001b[0m True\n"
     ]
    },
    {
     "name": "stderr",
     "output_type": "stream",
     "text": [
      "C:\\ProgramData\\Anaconda3\\lib\\site-packages\\IPython\\core\\interactiveshell.py:3465: UserWarning: To exit: use 'exit', 'quit', or Ctrl-D.\n",
      "  warn(\"To exit: use 'exit', 'quit', or Ctrl-D.\", stacklevel=1)\n"
     ]
    }
   ],
   "source": []
  }
 ],
 "metadata": {
  "kernelspec": {
   "display_name": "Python 3 (ipykernel)",
   "language": "python",
   "name": "python3"
  },
  "language_info": {
   "codemirror_mode": {
    "name": "ipython",
    "version": 3
   },
   "file_extension": ".py",
   "mimetype": "text/x-python",
   "name": "python",
   "nbconvert_exporter": "python",
   "pygments_lexer": "ipython3",
   "version": "3.9.13"
  }
 },
 "nbformat": 4,
 "nbformat_minor": 5
}
