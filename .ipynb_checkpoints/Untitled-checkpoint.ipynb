{
 "cells": [
  {
   "cell_type": "code",
   "execution_count": 1,
   "id": "efd69f03",
   "metadata": {},
   "outputs": [],
   "source": [
    "class Article:\n",
    "    def __init__(self, nom, montant):\n",
    "        self.nom = nom\n",
    "        self.montant = montant\n",
    "        \n",
    "    def afficher_article(self):\n",
    "        print(f\"Nom: {self.nom}, Montant: {self.montant}\")\n",
    "    \n",
    "    def ajouter_remise(self, remise_en_prc):\n",
    "        remise = self.montant*remise_en_prc\n",
    "        self.montant = self.montant - remise\n",
    "        \n",
    "    "
   ]
  },
  {
   "cell_type": "code",
   "execution_count": null,
   "id": "946185dc",
   "metadata": {},
   "outputs": [],
   "source": [
    "class Panier:\n",
    "    def __init__(self, nb_articles = 0, mt_articles = 0, articles = [])\n",
    "        self.nb_articles = nb.articles\n",
    "        self.mt_articles = mt_articles\n",
    "        self.articles = articles\n",
    "    \n",
    "    # Ajout d'article\n",
    "    def ajouter_des_articles(self, article):\n",
    "        if isinstance(article, Article):\n",
    "            self.nb_articles+=1\n",
    "            self.articles.append(article)\n",
    "            self.mt_articles += article.montant\n",
    "        else:\n",
    "            print(\"Ce n'est pas un article\")\n",
    "            \n",
    "    # Retirer article \n",
    "    def retirer_des_articles(self, article):\n",
    "        if article is in self.articles:\n",
    "            self.nb_articles-=1\n",
    "            self.articles.remove(article)\n",
    "            self.mt_articles -= article.montant\n",
    "        else:\n",
    "            print(\"L'article n'est pas dans le panier\")\n",
    "            \n",
    "    # Vider panier\n",
    "    def vider_panier(self):\n",
    "        self.nb_articles = 0\n",
    "        self.articles = []\n",
    "        self.mt_articles = 0\n",
    "        \n",
    "        "
   ]
  }
 ],
 "metadata": {
  "kernelspec": {
   "display_name": "Python 3 (ipykernel)",
   "language": "python",
   "name": "python3"
  },
  "language_info": {
   "codemirror_mode": {
    "name": "ipython",
    "version": 3
   },
   "file_extension": ".py",
   "mimetype": "text/x-python",
   "name": "python",
   "nbconvert_exporter": "python",
   "pygments_lexer": "ipython3",
   "version": "3.9.13"
  }
 },
 "nbformat": 4,
 "nbformat_minor": 5
}
